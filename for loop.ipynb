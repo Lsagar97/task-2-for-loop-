{
 "cells": [
  {
   "cell_type": "code",
   "execution_count": 1,
   "id": "e035cfb8",
   "metadata": {},
   "outputs": [],
   "source": [
    "l=[1,2,3,4,\"liki\",\"sudh\",45.32]"
   ]
  },
  {
   "cell_type": "code",
   "execution_count": 2,
   "id": "7edd0180",
   "metadata": {
    "scrolled": true
   },
   "outputs": [
    {
     "name": "stdout",
     "output_type": "stream",
     "text": [
      "1\n",
      "2\n",
      "3\n",
      "4\n",
      "liki\n",
      "sudh\n",
      "45.32\n"
     ]
    }
   ],
   "source": [
    "for i in l:\n",
    "\n",
    "    print(i)"
   ]
  },
  {
   "cell_type": "code",
   "execution_count": 3,
   "id": "5575d366",
   "metadata": {},
   "outputs": [],
   "source": [
    "for i in l :\n",
    "    \n",
    "    \n",
    "    \n",
    "    pass"
   ]
  },
  {
   "cell_type": "code",
   "execution_count": 4,
   "id": "cd5356a5",
   "metadata": {},
   "outputs": [
    {
     "name": "stdout",
     "output_type": "stream",
     "text": [
      "l\n",
      "i\n",
      "k\n",
      "i\n",
      "'\n",
      "s\n"
     ]
    }
   ],
   "source": [
    "s=\"liki's\"\n",
    "for i in s:\n",
    "    print(i)"
   ]
  },
  {
   "cell_type": "code",
   "execution_count": 5,
   "id": "27056941",
   "metadata": {
    "scrolled": true
   },
   "outputs": [
    {
     "name": "stdout",
     "output_type": "stream",
     "text": [
      "1\n",
      "2\n",
      "3\n",
      "4\n",
      "liki\n",
      "sudh\n",
      "45.32\n",
      "if for loop is going to complete itself the it excecute else\n"
     ]
    }
   ],
   "source": [
    "for i in l:\n",
    "    print(i)\n",
    "else:\n",
    "    print(\"if for loop is going to complete itself the it excecute else\")"
   ]
  },
  {
   "cell_type": "code",
   "execution_count": 6,
   "id": "1667501c",
   "metadata": {},
   "outputs": [
    {
     "data": {
      "text/plain": [
       "[1, 2, 3, 4, 'liki', 'sudh', 45.32]"
      ]
     },
     "execution_count": 6,
     "metadata": {},
     "output_type": "execute_result"
    }
   ],
   "source": [
    "l"
   ]
  },
  {
   "cell_type": "code",
   "execution_count": 7,
   "id": "28968767",
   "metadata": {},
   "outputs": [
    {
     "name": "stdout",
     "output_type": "stream",
     "text": [
      "1\n",
      "2\n",
      "3\n"
     ]
    }
   ],
   "source": [
    "for i in l:\n",
    "    if i==4:\n",
    "        break\n",
    "    print(i)\n",
    "else:\n",
    "    print(\"this will execeute only if for is going to complete itself\")"
   ]
  },
  {
   "cell_type": "code",
   "execution_count": 8,
   "id": "be19a773",
   "metadata": {},
   "outputs": [
    {
     "name": "stdout",
     "output_type": "stream",
     "text": [
      "l\n",
      "a\n",
      "k\n",
      "s\n",
      "h\n"
     ]
    }
   ],
   "source": [
    "s=\"lakshmisagara\"\n",
    "for i in s:\n",
    "    if i =='m':\n",
    "        break\n",
    "    print(i)\n",
    "else:\n",
    "    print(\"print string\")\n",
    "    "
   ]
  },
  {
   "cell_type": "code",
   "execution_count": 9,
   "id": "004a1fb0",
   "metadata": {},
   "outputs": [
    {
     "name": "stdout",
     "output_type": "stream",
     "text": [
      "4\n",
      "5\n",
      "6\n",
      "7\n",
      "8\n",
      "liki\n"
     ]
    }
   ],
   "source": [
    "t=(4,5,6,7,8,\"liki\")\n",
    "for i in t:\n",
    "    print(i)"
   ]
  },
  {
   "cell_type": "code",
   "execution_count": 10,
   "id": "cb60a1d4",
   "metadata": {},
   "outputs": [],
   "source": [
    "b={4,5,6,7,8,7,7,7,8,'liki'}"
   ]
  },
  {
   "cell_type": "code",
   "execution_count": 11,
   "id": "1076511a",
   "metadata": {},
   "outputs": [
    {
     "data": {
      "text/plain": [
       "set"
      ]
     },
     "execution_count": 11,
     "metadata": {},
     "output_type": "execute_result"
    }
   ],
   "source": [
    "type(b)"
   ]
  },
  {
   "cell_type": "code",
   "execution_count": 12,
   "id": "0f29ac71",
   "metadata": {},
   "outputs": [
    {
     "data": {
      "text/plain": [
       "{4, 5, 6, 7, 8, 'liki'}"
      ]
     },
     "execution_count": 12,
     "metadata": {},
     "output_type": "execute_result"
    }
   ],
   "source": [
    "b"
   ]
  },
  {
   "cell_type": "code",
   "execution_count": 13,
   "id": "f10bb9ce",
   "metadata": {},
   "outputs": [
    {
     "name": "stdout",
     "output_type": "stream",
     "text": [
      "liki\n",
      "4\n",
      "5\n",
      "6\n",
      "7\n",
      "8\n"
     ]
    }
   ],
   "source": [
    "for i in b:\n",
    "    print(i)"
   ]
  },
  {
   "cell_type": "code",
   "execution_count": 14,
   "id": "5590933c",
   "metadata": {
    "scrolled": true
   },
   "outputs": [
    {
     "name": "stdout",
     "output_type": "stream",
     "text": [
      "key1 : liki\n",
      "contact : 8123235775\n",
      "email : likithjack57\n"
     ]
    }
   ],
   "source": [
    "d={'key1':\"liki\",'contact':\"8123235775\",'email':\"likithjack57\"}\n",
    "for i in d:\n",
    "    \n",
    "    print(i,\":\",d[i])"
   ]
  },
  {
   "cell_type": "code",
   "execution_count": 15,
   "id": "773262fe",
   "metadata": {
    "scrolled": true
   },
   "outputs": [
    {
     "data": {
      "text/plain": [
       "'liki'"
      ]
     },
     "execution_count": 15,
     "metadata": {},
     "output_type": "execute_result"
    }
   ],
   "source": [
    "d['key1']"
   ]
  },
  {
   "cell_type": "code",
   "execution_count": 16,
   "id": "425c017c",
   "metadata": {},
   "outputs": [
    {
     "data": {
      "text/plain": [
       "range(0, 9)"
      ]
     },
     "execution_count": 16,
     "metadata": {},
     "output_type": "execute_result"
    }
   ],
   "source": [
    "range(9)"
   ]
  },
  {
   "cell_type": "code",
   "execution_count": 17,
   "id": "836ebee4",
   "metadata": {},
   "outputs": [
    {
     "data": {
      "text/plain": [
       "[0, 1, 2, 3, 4, 5, 6, 7, 8]"
      ]
     },
     "execution_count": 17,
     "metadata": {},
     "output_type": "execute_result"
    }
   ],
   "source": [
    "list(range(9))"
   ]
  },
  {
   "cell_type": "code",
   "execution_count": 18,
   "id": "5a517b58",
   "metadata": {},
   "outputs": [
    {
     "name": "stdout",
     "output_type": "stream",
     "text": [
      "0\n",
      "1\n",
      "2\n",
      "3\n",
      "4\n",
      "5\n",
      "6\n",
      "7\n",
      "8\n"
     ]
    }
   ],
   "source": [
    "for i in range(9):\n",
    "    print(i)"
   ]
  },
  {
   "cell_type": "code",
   "execution_count": 19,
   "id": "38662b96",
   "metadata": {},
   "outputs": [
    {
     "data": {
      "text/plain": [
       "[9, 8, 7, 6, 5, 4, 3, 2, 1]"
      ]
     },
     "execution_count": 19,
     "metadata": {},
     "output_type": "execute_result"
    }
   ],
   "source": [
    "list(range(9,0,-1))"
   ]
  },
  {
   "cell_type": "code",
   "execution_count": 20,
   "id": "3630d0a4",
   "metadata": {},
   "outputs": [
    {
     "name": "stdout",
     "output_type": "stream",
     "text": [
      "liki \n",
      "\n",
      "liki liki \n",
      "\n",
      "liki liki liki \n",
      "\n",
      "liki liki liki liki \n",
      "\n"
     ]
    }
   ],
   "source": [
    "n=4\n",
    "for i in range(n):\n",
    "    for j in range (i+1):\n",
    "        print(\"liki\",end=\" \")\n",
    "    print(\"\\n\")"
   ]
  },
  {
   "cell_type": "code",
   "execution_count": 21,
   "id": "68812a2f",
   "metadata": {},
   "outputs": [
    {
     "name": "stdout",
     "output_type": "stream",
     "text": [
      "          liki \n",
      "     liki liki liki \n",
      "liki liki liki liki liki \n"
     ]
    }
   ],
   "source": [
    "n=3\n",
    "for i in range(n):\n",
    "    for j in range (i,n-1):\n",
    "        print(\" \"*len(\"liki\"),end=\" \")\n",
    "    for j in range(i+1):\n",
    "        print(\"liki\",end=\" \")\n",
    "    for j in range(i):\n",
    "        print(\"liki\",end=\" \")\n",
    "        \n",
    "  \n",
    "    print()\n",
    "    \n",
    "    "
   ]
  },
  {
   "cell_type": "code",
   "execution_count": 22,
   "id": "19dec34a",
   "metadata": {},
   "outputs": [
    {
     "ename": "SyntaxError",
     "evalue": "invalid syntax (1259194929.py, line 6)",
     "output_type": "error",
     "traceback": [
      "\u001b[1;36m  Input \u001b[1;32mIn [22]\u001b[1;36m\u001b[0m\n\u001b[1;33m    for j in\u001b[0m\n\u001b[1;37m             ^\u001b[0m\n\u001b[1;31mSyntaxError\u001b[0m\u001b[1;31m:\u001b[0m invalid syntax\n"
     ]
    }
   ],
   "source": [
    "n=4\n",
    "k=n\n",
    "for i in range(n):\n",
    "    k=k-1\n",
    "    print('   '*k, end=\" \")\n",
    "    for j in "
   ]
  },
  {
   "cell_type": "code",
   "execution_count": 34,
   "id": "4fb8ee1e",
   "metadata": {},
   "outputs": [],
   "source": [
    "t=(3,23,45,67,2,4,5,6)\n"
   ]
  },
  {
   "cell_type": "code",
   "execution_count": 35,
   "id": "c4d4922b",
   "metadata": {},
   "outputs": [
    {
     "name": "stdout",
     "output_type": "stream",
     "text": [
      "0 3\n",
      "1 23\n",
      "2 45\n",
      "3 67\n",
      "4 2\n",
      "5 4\n",
      "6 5\n",
      "7 6\n"
     ]
    }
   ],
   "source": [
    "for i in range(len(t)):\n",
    "    print(i,t[i])\n",
    "    "
   ]
  },
  {
   "cell_type": "code",
   "execution_count": 36,
   "id": "5e1131cd",
   "metadata": {},
   "outputs": [
    {
     "name": "stdout",
     "output_type": "stream",
     "text": [
      "0 i\n",
      "1 n\n",
      "2 e\n",
      "3 u\n",
      "4 r\n",
      "5 o\n",
      "6 n\n"
     ]
    }
   ],
   "source": [
    "s=\"ineuron\"\n",
    "for i in range(len(s)):\n",
    "    print(i,s[i])"
   ]
  },
  {
   "cell_type": "code",
   "execution_count": 31,
   "id": "8c5ead96",
   "metadata": {},
   "outputs": [
    {
     "name": "stdout",
     "output_type": "stream",
     "text": [
      "6 n\n",
      "5 o\n",
      "4 r\n",
      "3 u\n",
      "2 e\n",
      "1 n\n",
      "0 i\n"
     ]
    }
   ],
   "source": [
    "s=\"ineuron\"\n",
    "for i in range(len(s)-1,-1,-1):\n",
    "        print(i,s[i])\n",
    "    \n",
    " \n",
    "    \n",
    "    \n"
   ]
  },
  {
   "cell_type": "code",
   "execution_count": 32,
   "id": "ad943c2d",
   "metadata": {},
   "outputs": [
    {
     "data": {
      "text/plain": [
       "[6, 5, 4, 3, 2, 1, 0]"
      ]
     },
     "execution_count": 32,
     "metadata": {},
     "output_type": "execute_result"
    }
   ],
   "source": [
    "list(range(len(s)-1,-1,-1))"
   ]
  },
  {
   "cell_type": "code",
   "execution_count": null,
   "id": "f1788501",
   "metadata": {},
   "outputs": [],
   "source": []
  },
  {
   "cell_type": "code",
   "execution_count": 33,
   "id": "dfedd1ad",
   "metadata": {},
   "outputs": [
    {
     "ename": "NameError",
     "evalue": "name 'd' is not defined",
     "output_type": "error",
     "traceback": [
      "\u001b[1;31m---------------------------------------------------------------------------\u001b[0m",
      "\u001b[1;31mNameError\u001b[0m                                 Traceback (most recent call last)",
      "Input \u001b[1;32mIn [33]\u001b[0m, in \u001b[0;36m<cell line: 1>\u001b[1;34m()\u001b[0m\n\u001b[1;32m----> 1\u001b[0m \u001b[38;5;28;01mfor\u001b[39;00m i \u001b[38;5;129;01min\u001b[39;00m \u001b[43md\u001b[49m\u001b[38;5;241m.\u001b[39mitems():\n\u001b[0;32m      2\u001b[0m     \u001b[38;5;28mprint\u001b[39m(i,\u001b[38;5;28mtype\u001b[39m(i),\u001b[38;5;28mtype\u001b[39m(i[\u001b[38;5;241m1\u001b[39m]))\n",
      "\u001b[1;31mNameError\u001b[0m: name 'd' is not defined"
     ]
    }
   ],
   "source": [
    "for i in d.items():\n",
    "    print(i,type(i),type(i[1]))"
   ]
  },
  {
   "cell_type": "code",
   "execution_count": 34,
   "id": "a08e5e75",
   "metadata": {},
   "outputs": [],
   "source": [
    "l=[\"liki\",\"kumar\",324567,\"likithjack\",345,345678]"
   ]
  },
  {
   "cell_type": "code",
   "execution_count": 35,
   "id": "5e910b49",
   "metadata": {},
   "outputs": [
    {
     "name": "stdout",
     "output_type": "stream",
     "text": [
      "[324567, 345, 345678]\n"
     ]
    }
   ],
   "source": [
    "l1=[]\n",
    "for i in l:\n",
    "    if type(i)==int:\n",
    "        l1.append(i)\n",
    "print(l1)\n",
    "        "
   ]
  },
  {
   "cell_type": "code",
   "execution_count": 36,
   "id": "7002031d",
   "metadata": {},
   "outputs": [],
   "source": [
    "d={1:234456,\"name\":\"liki\",\"email\":\"likithjack\",234:\"likikjj\",\"45\":\"kumar\",234:\"sagar\"}"
   ]
  },
  {
   "cell_type": "code",
   "execution_count": 37,
   "id": "5c1b01b1",
   "metadata": {},
   "outputs": [
    {
     "data": {
      "text/plain": [
       "{1: 234456, 'name': 'liki', 'email': 'likithjack', 234: 'sagar', '45': 'kumar'}"
      ]
     },
     "execution_count": 37,
     "metadata": {},
     "output_type": "execute_result"
    }
   ],
   "source": [
    "d"
   ]
  },
  {
   "cell_type": "code",
   "execution_count": 38,
   "id": "e4374512",
   "metadata": {},
   "outputs": [
    {
     "name": "stdout",
     "output_type": "stream",
     "text": [
      "1 : 234456\n",
      "234 : sagar\n"
     ]
    }
   ],
   "source": [
    "\n",
    "for i in d:\n",
    "    if type(i)==int:\n",
    "        print(i,\":\",d[i])\n",
    "\n",
    "\n"
   ]
  },
  {
   "cell_type": "code",
   "execution_count": 39,
   "id": "0cb976d2",
   "metadata": {},
   "outputs": [],
   "source": [
    "s=\"aaaabbccd\""
   ]
  },
  {
   "cell_type": "code",
   "execution_count": 40,
   "id": "7c81e192",
   "metadata": {},
   "outputs": [
    {
     "name": "stdout",
     "output_type": "stream",
     "text": [
      "a : 4\n",
      "a : 4\n",
      "a : 4\n",
      "a : 4\n",
      "b : 2\n",
      "b : 2\n",
      "c : 2\n",
      "c : 2\n",
      "d : 1\n"
     ]
    }
   ],
   "source": [
    "for i in s:\n",
    "    print(i,\":\",s.count(i))\n",
    "    \n"
   ]
  },
  {
   "cell_type": "code",
   "execution_count": 41,
   "id": "4a45b36a",
   "metadata": {},
   "outputs": [
    {
     "data": {
      "text/plain": [
       "4"
      ]
     },
     "execution_count": 41,
     "metadata": {},
     "output_type": "execute_result"
    }
   ],
   "source": [
    "s.count(\"a\")"
   ]
  },
  {
   "cell_type": "code",
   "execution_count": 42,
   "id": "18f55b15",
   "metadata": {},
   "outputs": [
    {
     "name": "stdout",
     "output_type": "stream",
     "text": [
      "2 <class 'int'>\n",
      "6 <class 'int'>\n",
      "4 <class 'int'>\n",
      "5 <class 'int'>\n",
      "3 <class 'int'>\n",
      "8 <class 'int'>\n",
      "7 <class 'int'>\n",
      "5 <class 'int'>\n",
      "3 <class 'int'>\n",
      "8 <class 'int'>\n",
      "7 <class 'int'>\n",
      "4 <class 'int'>\n"
     ]
    }
   ],
   "source": [
    "i = 264538753874\n",
    "for j in str(i):\n",
    "    print(int(j),type(int(j)))"
   ]
  },
  {
   "cell_type": "code",
   "execution_count": 43,
   "id": "d59a045e",
   "metadata": {},
   "outputs": [
    {
     "data": {
      "text/plain": [
       "'264538753874'"
      ]
     },
     "execution_count": 43,
     "metadata": {},
     "output_type": "execute_result"
    }
   ],
   "source": [
    "str(i)"
   ]
  },
  {
   "cell_type": "code",
   "execution_count": 44,
   "id": "3ff1fadd",
   "metadata": {},
   "outputs": [],
   "source": [
    "t=(\"liki\",\"kumar\",[1,2,3,4,5],(3,4,5,6),{3:3,\"key1\":\"liki\",\"key2\":\"kumar\"})"
   ]
  },
  {
   "cell_type": "code",
   "execution_count": 45,
   "id": "69d079f3",
   "metadata": {},
   "outputs": [
    {
     "name": "stdout",
     "output_type": "stream",
     "text": [
      "3\n",
      "3\n",
      "3\n",
      "3\n"
     ]
    }
   ],
   "source": [
    "for i in t:\n",
    "    if type(i)==list or type(i)==tuple:\n",
    "        for j in i:\n",
    "            if j==3:\n",
    "                 print(j)\n",
    "    if type(i)==dict:\n",
    "        for k,v in i.items():\n",
    "            if k==3 or v==3:\n",
    "                print(k)\n",
    "                print(v)\n",
    "            "
   ]
  },
  {
   "cell_type": "code",
   "execution_count": 46,
   "id": "bd4b932c",
   "metadata": {},
   "outputs": [],
   "source": [
    "d={4:5,\"key1\":\"liki\",\"key2\":\"kumar\"}"
   ]
  },
  {
   "cell_type": "code",
   "execution_count": 47,
   "id": "10b150a0",
   "metadata": {},
   "outputs": [
    {
     "name": "stdout",
     "output_type": "stream",
     "text": [
      "(4, 5)\n",
      "('key1', 'liki')\n",
      "('key2', 'kumar')\n"
     ]
    }
   ],
   "source": [
    "\n",
    "for i in d.items():\n",
    "    print(i)"
   ]
  },
  {
   "cell_type": "code",
   "execution_count": 48,
   "id": "b38fa7aa",
   "metadata": {},
   "outputs": [
    {
     "data": {
      "text/plain": [
       "dict_items([(4, 5), ('key1', 'liki'), ('key2', 'kumar')])"
      ]
     },
     "execution_count": 48,
     "metadata": {},
     "output_type": "execute_result"
    }
   ],
   "source": [
    "d.items()"
   ]
  },
  {
   "cell_type": "code",
   "execution_count": 49,
   "id": "c5d42555",
   "metadata": {},
   "outputs": [],
   "source": [
    "a=10\n",
    "b=20\n",
    "c=30\n"
   ]
  },
  {
   "cell_type": "code",
   "execution_count": 50,
   "id": "2449a729",
   "metadata": {},
   "outputs": [],
   "source": [
    "a,b,c=10,20,30"
   ]
  },
  {
   "cell_type": "code",
   "execution_count": 51,
   "id": "fca7ce92",
   "metadata": {},
   "outputs": [],
   "source": [
    "a,b,c=(10,20,30)"
   ]
  },
  {
   "cell_type": "code",
   "execution_count": 52,
   "id": "6abbc2e6",
   "metadata": {},
   "outputs": [],
   "source": [
    "l=[[1,2,3,4],(2,3,4,5,6),(3,4,5,6,7),set([23,4,5,45,4,4,5,45,45,4,5]),{'k1':\"sudh\",\"k2\":\"ineuron\",\"k3\":\"kumar\",3:6,7:8},[\"ineuron\",\"data science\"]]"
   ]
  },
  {
   "cell_type": "code",
   "execution_count": 53,
   "id": "b693dd86",
   "metadata": {},
   "outputs": [],
   "source": [
    "l = [[1,2,3,4] , (2,3,4,5,6) , (3,4,5,6,7) , set([23,4,5,45,4,4,5,45,45,4,5]) , {'k1' :\"sudh\" , \"k2\" : \"ineuron\",\"k3\":\n",
    "            \"kumar\" , 3:6 , 7:8} , [\"ineuron\" , \"data science \"]]"
   ]
  },
  {
   "cell_type": "code",
   "execution_count": 90,
   "id": "6ddb1f27",
   "metadata": {},
   "outputs": [
    {
     "name": "stdout",
     "output_type": "stream",
     "text": [
      "enter the number of rows:5\n",
      "\n",
      "ineuron \n",
      "ineuron ineuron \n",
      "ineuron ineuron ineuron \n",
      "ineuron ineuron ineuron ineuron \n"
     ]
    }
   ],
   "source": [
    "##q1\n",
    "n=int(input('enter the number of rows:'))\n",
    "for i in range(n):\n",
    "    for j in range(i):\n",
    "        print(\"ineuron\",end=\" \")\n",
    "    print()"
   ]
  },
  {
   "cell_type": "code",
   "execution_count": 147,
   "id": "c7b39084",
   "metadata": {},
   "outputs": [
    {
     "name": "stdout",
     "output_type": "stream",
     "text": [
      "enter number of rows =3\n",
      "                ineuron         \n",
      "        ineuron         ineuron                 \n",
      "ineuron         ineuron         ineuron                         \n",
      "        ineuron         ineuron                 \n",
      "                ineuron         \n"
     ]
    }
   ],
   "source": [
    "##q2\n",
    "n=int(input(\"enter number of rows =\"))\n",
    "for i in range(n):\n",
    "    for j in range(i,n-1):\n",
    "        print(\" \"*(len(\"ineuron\")),end=\" \")\n",
    "    for j in range(i+1):\n",
    "        print(\"ineuron\",\" \"*(len(\"ineuron\")),end=\" \")\n",
    "    for j in range(i):\n",
    "        print(\" \"*(len(\"ineuron\")),end=\" \")\n",
    "    \n",
    "    print()\n",
    "for i in range(n-2,-1,-1):\n",
    "    for j in range(i,n-1):\n",
    "        print(\" \"*(len(\"ineuron\")),end=\" \")\n",
    "    for j in range (i+1):\n",
    "        print(\"ineuron\",\" \"*(len(\"ineuron\")),end=\" \")\n",
    "    for j in range(i):\n",
    "        print(\" \"*(len('ineuron')),end=\" \")\n",
    "    print()\n",
    "    \n",
    "    ## mistakes will cout dont worry\n",
    "    ## i have just tried by seeing and modifying above codes"
   ]
  },
  {
   "cell_type": "code",
   "execution_count": 116,
   "id": "3d403d07",
   "metadata": {},
   "outputs": [
    {
     "name": "stdout",
     "output_type": "stream",
     "text": [
      "                ineuron \r\n",
      "        ineuron ineuron ineuron \r\n",
      "ineuron ineuron ineuron ineuron ineuron \r\n",
      "        ineuron ineuron ineuron \r\n",
      "                ineuron \r\n"
     ]
    }
   ],
   "source": [
    "##q2\n",
    "n = 3\n",
    "for i in range(n):\n",
    "    for j in range(i, n-1):\n",
    "        print(\" \"*len('ineuron'), end=' ')\n",
    "    for j in range(i+1):\n",
    "        print('ineuron', end=' ')\n",
    "    for j in range(i):\n",
    "        print('ineuron', end=' ')\n",
    "    print('\\r')\n",
    "for i in range(n-2, -1, -1):\n",
    "    for j in range(i, n-1):\n",
    "        print(\" \"*len('ineuron'), end=' ')\n",
    "    for j in range(i+1):\n",
    "        print('ineuron', end=' ')\n",
    "    for j in range(i):\n",
    "        print('ineuron', end=' ')\n",
    "    print('\\r')\n"
   ]
  },
  {
   "cell_type": "code",
   "execution_count": 57,
   "id": "7df567df",
   "metadata": {},
   "outputs": [
    {
     "data": {
      "text/plain": [
       "[[1, 2, 3, 4],\n",
       " (2, 3, 4, 5, 6),\n",
       " (3, 4, 5, 6, 7),\n",
       " {4, 5, 23, 45},\n",
       " {'k1': 'sudh', 'k2': 'ineuron', 'k3': 'kumar', 3: 6, 7: 8},\n",
       " ['ineuron', 'data science ']]"
      ]
     },
     "execution_count": 57,
     "metadata": {},
     "output_type": "execute_result"
    }
   ],
   "source": [
    "l"
   ]
  },
  {
   "cell_type": "code",
   "execution_count": 58,
   "id": "f42ffe77",
   "metadata": {},
   "outputs": [
    {
     "name": "stdout",
     "output_type": "stream",
     "text": [
      "[1, 2, 3, 4]\n",
      "['ineuron', 'data science ']\n"
     ]
    }
   ],
   "source": [
    "##q3\n",
    "for i in l:\n",
    "    if type(i)==list:\n",
    "        print(i)"
   ]
  },
  {
   "cell_type": "code",
   "execution_count": 59,
   "id": "613df96d",
   "metadata": {},
   "outputs": [
    {
     "name": "stdout",
     "output_type": "stream",
     "text": [
      "{'k1': 'sudh', 'k2': 'ineuron', 'k3': 'kumar', 3: 6, 7: 8}\n"
     ]
    }
   ],
   "source": [
    "##q4\n",
    "for i in l:\n",
    "    if type(i)==dict:\n",
    "        print(i)"
   ]
  },
  {
   "cell_type": "code",
   "execution_count": 60,
   "id": "5ed02f52",
   "metadata": {},
   "outputs": [
    {
     "name": "stdout",
     "output_type": "stream",
     "text": [
      "(2, 3, 4, 5, 6)\n",
      "(3, 4, 5, 6, 7)\n"
     ]
    }
   ],
   "source": [
    "#q5\n",
    "for i in l:\n",
    "    if type(i)==tuple:\n",
    "        print(i)"
   ]
  },
  {
   "cell_type": "code",
   "execution_count": 61,
   "id": "b9991cc0",
   "metadata": {},
   "outputs": [
    {
     "name": "stdout",
     "output_type": "stream",
     "text": [
      "{45, 4, 5, 23}\n"
     ]
    }
   ],
   "source": [
    "for i in l:\n",
    "    if type(i)==set:\n",
    "        print(i)"
   ]
  },
  {
   "cell_type": "code",
   "execution_count": 160,
   "id": "7d245f54",
   "metadata": {},
   "outputs": [
    {
     "name": "stdout",
     "output_type": "stream",
     "text": [
      "[1, 2, 3, 4, 2, 3, 4, 5, 6, 3, 4, 5, 6, 7, 45, 4, 5, 23, 3, 6, 7, 8]\n"
     ]
    }
   ],
   "source": [
    "#q6\n",
    "l2=[]\n",
    "for i in l:\n",
    "    if type(i)==list or type(i)==tuple or type(i)==set:\n",
    "        for j in i:\n",
    "            if type(j)==int:\n",
    "                 l2.append(j)\n",
    "    if type(i)==dict:\n",
    "        for k,v in i.items():\n",
    "            if type(k)==int or type(v)==int:\n",
    "                l2.append(k)\n",
    "                l2.append(v)\n",
    "print(l2)\n",
    "            \n",
    "        \n",
    "\n",
    "            \n",
    "        \n",
    "        #can print dict key's but unable to print dict values.\n",
    "     \n",
    "        ##after 6 hours i can :)"
   ]
  },
  {
   "cell_type": "code",
   "execution_count": 161,
   "id": "dc73c78b",
   "metadata": {},
   "outputs": [
    {
     "data": {
      "text/plain": [
       "[1, 2, 3, 4, 2, 3, 4, 5, 6, 3, 4, 5, 6, 7, 45, 4, 5, 23, 3, 6, 7, 8]"
      ]
     },
     "execution_count": 161,
     "metadata": {},
     "output_type": "execute_result"
    }
   ],
   "source": [
    "l2"
   ]
  },
  {
   "cell_type": "code",
   "execution_count": 162,
   "id": "8f585cb4",
   "metadata": {},
   "outputs": [
    {
     "name": "stdout",
     "output_type": "stream",
     "text": [
      "156\n"
     ]
    }
   ],
   "source": [
    "#q7\n",
    "l3=[]\n",
    "for i in l:\n",
    "    if type(i)==list or type(i)==tuple or type(i)==set:\n",
    "        for j in i:\n",
    "            if type(j)==int:\n",
    "                l3.append(j)\n",
    "    if type(i)==dict:\n",
    "        for k,v in i.items():\n",
    "            if type(k)==int or type(v)==int:\n",
    "                l3.append(k)\n",
    "                l3.append(v)\n",
    "            \n",
    "print(sum(l3))"
   ]
  },
  {
   "cell_type": "code",
   "execution_count": 163,
   "id": "2c293dc2",
   "metadata": {},
   "outputs": [
    {
     "data": {
      "text/plain": [
       "[1, 2, 3, 4, 2, 3, 4, 5, 6, 3, 4, 5, 6, 7, 45, 4, 5, 23, 3, 6, 7, 8]"
      ]
     },
     "execution_count": 163,
     "metadata": {},
     "output_type": "execute_result"
    }
   ],
   "source": [
    "l3 "
   ]
  },
  {
   "cell_type": "code",
   "execution_count": 164,
   "id": "206bf8f0",
   "metadata": {},
   "outputs": [
    {
     "data": {
      "text/plain": [
       "156"
      ]
     },
     "execution_count": 164,
     "metadata": {},
     "output_type": "execute_result"
    }
   ],
   "source": [
    "sum(l3)"
   ]
  },
  {
   "cell_type": "code",
   "execution_count": 165,
   "id": "188e6218",
   "metadata": {},
   "outputs": [
    {
     "name": "stdout",
     "output_type": "stream",
     "text": [
      "[1, 3]\n"
     ]
    }
   ],
   "source": [
    "#q8\n",
    "l4=[]\n",
    "for i in l:\n",
    "    if type(i)==list:\n",
    "        for j in i:\n",
    "            if type(j)==int:\n",
    "                l4.append(j)\n",
    "l5=[]\n",
    "l6=[]\n",
    "for i in l4:\n",
    "    if i%2==0:\n",
    "        l5.append(i)\n",
    "    else:\n",
    "        l6.append(i)\n",
    "print(l6)\n",
    "        \n",
    "    \n"
   ]
  },
  {
   "cell_type": "code",
   "execution_count": 166,
   "id": "aa8f5cc1",
   "metadata": {},
   "outputs": [
    {
     "data": {
      "text/plain": [
       "[1, 2, 3, 4]"
      ]
     },
     "execution_count": 166,
     "metadata": {},
     "output_type": "execute_result"
    }
   ],
   "source": [
    "l4"
   ]
  },
  {
   "cell_type": "code",
   "execution_count": 167,
   "id": "fad2d6c9",
   "metadata": {},
   "outputs": [
    {
     "data": {
      "text/plain": [
       "[2, 4]"
      ]
     },
     "execution_count": 167,
     "metadata": {},
     "output_type": "execute_result"
    }
   ],
   "source": [
    "l5"
   ]
  },
  {
   "cell_type": "code",
   "execution_count": 168,
   "id": "a78a76a6",
   "metadata": {},
   "outputs": [
    {
     "data": {
      "text/plain": [
       "[1, 3]"
      ]
     },
     "execution_count": 168,
     "metadata": {},
     "output_type": "execute_result"
    }
   ],
   "source": [
    "l6"
   ]
  },
  {
   "cell_type": "code",
   "execution_count": 173,
   "id": "898c94c5",
   "metadata": {},
   "outputs": [
    {
     "name": "stdout",
     "output_type": "stream",
     "text": [
      "ineuron\n",
      "ineuron\n",
      "['ineuron', 'ineuron']\n"
     ]
    }
   ],
   "source": [
    "#q9\n",
    "l7=[]\n",
    "for i in l:\n",
    "    if type(i)==list:\n",
    "        for j in i:\n",
    "            if j==\"ineuron\":\n",
    "                l7.append(j)\n",
    "    if type(i)==dict:\n",
    "        for k,v in i.items():\n",
    "            if v==\"ineuron\":\n",
    "                l7.append(v)\n",
    "                \n",
    "for i in l7:\n",
    "    if i==\"ineuron\":\n",
    "        print(i)\n",
    "print(l7)"
   ]
  },
  {
   "cell_type": "code",
   "execution_count": 72,
   "id": "f2944de4",
   "metadata": {},
   "outputs": [
    {
     "name": "stdout",
     "output_type": "stream",
     "text": [
      "k1 : 1\n",
      "k2 : 1\n",
      "k3 : 1\n",
      "3 : 1\n",
      "7 : 1\n",
      "['k1', 'k2', 'k3', 3, 7]\n"
     ]
    }
   ],
   "source": [
    "#q11\n",
    "l9=[]\n",
    "for i in l:\n",
    "    if type(i)==dict:\n",
    "        for k,v in i.items():\n",
    "            l9.append(k)\n",
    "            print(k,\":\", l9.count(k))\n",
    "print(l9)\n",
    "             "
   ]
  },
  {
   "cell_type": "code",
   "execution_count": 73,
   "id": "60ad0405",
   "metadata": {},
   "outputs": [
    {
     "name": "stdout",
     "output_type": "stream",
     "text": [
      "('[', '1', ',', ' ', '2', ',', ' ', '3', ',', ' ', '4', ',', ' ', '2', ',', ' ', '3', ',', ' ', '4', ',', ' ', '5', ',', ' ', '6', ',', ' ', '3', ',', ' ', '4', ',', ' ', '5', ',', ' ', '6', ',', ' ', '7', ',', ' ', '4', '5', ',', ' ', '4', ',', ' ', '5', ',', ' ', '2', '3', ',', ' ', \"'\", 'k', '1', \"'\", ',', ' ', \"'\", 'k', '2', \"'\", ',', ' ', \"'\", 'k', '3', \"'\", ',', ' ', '3', ',', ' ', '7', ',', ' ', \"'\", 's', 'u', 'd', 'h', \"'\", ',', ' ', \"'\", 'i', 'n', 'e', 'u', 'r', 'o', 'n', \"'\", ',', ' ', \"'\", 'k', 'u', 'm', 'a', 'r', \"'\", ',', ' ', '6', ',', ' ', '8', ',', ' ', \"'\", 'i', 'n', 'e', 'u', 'r', 'o', 'n', \"'\", ',', ' ', \"'\", 'd', 'a', 't', 'a', ' ', 's', 'c', 'i', 'e', 'n', 'c', 'e', ' ', \"'\", ']')\n",
      "[ : 1\n",
      "1 : 2\n",
      ", : 29\n",
      "  : 31\n",
      "2 : 4\n",
      ", : 29\n",
      "  : 31\n",
      "3 : 6\n",
      ", : 29\n",
      "  : 31\n",
      "4 : 5\n",
      ", : 29\n",
      "  : 31\n",
      "2 : 4\n",
      ", : 29\n",
      "  : 31\n",
      "3 : 6\n",
      ", : 29\n",
      "  : 31\n",
      "4 : 5\n",
      ", : 29\n",
      "  : 31\n",
      "5 : 4\n",
      ", : 29\n",
      "  : 31\n",
      "6 : 3\n",
      ", : 29\n",
      "  : 31\n",
      "3 : 6\n",
      ", : 29\n",
      "  : 31\n",
      "4 : 5\n",
      ", : 29\n",
      "  : 31\n",
      "5 : 4\n",
      ", : 29\n",
      "  : 31\n",
      "6 : 3\n",
      ", : 29\n",
      "  : 31\n",
      "7 : 2\n",
      ", : 29\n",
      "  : 31\n",
      "4 : 5\n",
      "5 : 4\n",
      ", : 29\n",
      "  : 31\n",
      "4 : 5\n",
      ", : 29\n",
      "  : 31\n",
      "5 : 4\n",
      ", : 29\n",
      "  : 31\n",
      "2 : 4\n",
      "3 : 6\n",
      ", : 29\n",
      "  : 31\n",
      "' : 16\n",
      "k : 4\n",
      "1 : 2\n",
      "' : 16\n",
      ", : 29\n",
      "  : 31\n",
      "' : 16\n",
      "k : 4\n",
      "2 : 4\n",
      "' : 16\n",
      ", : 29\n",
      "  : 31\n",
      "' : 16\n",
      "k : 4\n",
      "3 : 6\n",
      "' : 16\n",
      ", : 29\n",
      "  : 31\n",
      "3 : 6\n",
      ", : 29\n",
      "  : 31\n",
      "7 : 2\n",
      ", : 29\n",
      "  : 31\n",
      "' : 16\n",
      "s : 2\n",
      "u : 4\n",
      "d : 2\n",
      "h : 1\n",
      "' : 16\n",
      ", : 29\n",
      "  : 31\n",
      "' : 16\n",
      "i : 3\n",
      "n : 5\n",
      "e : 4\n",
      "u : 4\n",
      "r : 3\n",
      "o : 2\n",
      "n : 5\n",
      "' : 16\n",
      ", : 29\n",
      "  : 31\n",
      "' : 16\n",
      "k : 4\n",
      "u : 4\n",
      "m : 1\n",
      "a : 3\n",
      "r : 3\n",
      "' : 16\n",
      ", : 29\n",
      "  : 31\n",
      "6 : 3\n",
      ", : 29\n",
      "  : 31\n",
      "8 : 1\n",
      ", : 29\n",
      "  : 31\n",
      "' : 16\n",
      "i : 3\n",
      "n : 5\n",
      "e : 4\n",
      "u : 4\n",
      "r : 3\n",
      "o : 2\n",
      "n : 5\n",
      "' : 16\n",
      ", : 29\n",
      "  : 31\n",
      "' : 16\n",
      "d : 2\n",
      "a : 3\n",
      "t : 1\n",
      "a : 3\n",
      "  : 31\n",
      "s : 2\n",
      "c : 2\n",
      "i : 3\n",
      "e : 4\n",
      "n : 5\n",
      "c : 2\n",
      "e : 4\n",
      "  : 31\n",
      "' : 16\n",
      "] : 1\n"
     ]
    }
   ],
   "source": [
    "#q10\n",
    "l8=[]\n",
    "for i in tuple(l):\n",
    "    for j in i:\n",
    "        l8.append(j)\n",
    "    if type(i)==dict:\n",
    "        for k,v in i.items():\n",
    "            l8.append(v)\n",
    "t=tuple(str(l8))\n",
    "print(t)\n",
    "' '.join(t)\n",
    "for i in t:\n",
    "    print(i,\":\",t.count(i))\n",
    "\n",
    "\n",
    "##pin to pin occurence\n",
    "\n",
    "\n",
    "    \n",
    "            \n",
    "            \n",
    "    \n",
    "    \n",
    "    \n",
    "    \n",
    "\n",
    "    \n",
    "        \n",
    "    "
   ]
  },
  {
   "cell_type": "code",
   "execution_count": 74,
   "id": "72598595",
   "metadata": {},
   "outputs": [
    {
     "name": "stdout",
     "output_type": "stream",
     "text": [
      "[1, 2, 3, 4, 2, 3, 4, 5, 6, 3, 4, 5, 6, 7, 45, 4, 5, 23, 'k1', 'k2', 'k3', 3, 7, 'sudh', 'ineuron', 'kumar', 6, 8, 'ineuron', 'data science ']\n"
     ]
    }
   ],
   "source": [
    "print(l8)\n"
   ]
  },
  {
   "cell_type": "code",
   "execution_count": 75,
   "id": "6f7164a1",
   "metadata": {},
   "outputs": [],
   "source": [
    "##normal occurence\n",
    "##q10"
   ]
  },
  {
   "cell_type": "code",
   "execution_count": 76,
   "id": "74451fbb",
   "metadata": {},
   "outputs": [
    {
     "name": "stdout",
     "output_type": "stream",
     "text": [
      "1 : 1\n",
      "2 : 2\n",
      "3 : 4\n",
      "4 : 4\n",
      "2 : 2\n",
      "3 : 4\n",
      "4 : 4\n",
      "5 : 3\n",
      "6 : 3\n",
      "3 : 4\n",
      "4 : 4\n",
      "5 : 3\n",
      "6 : 3\n",
      "7 : 2\n",
      "45 : 1\n",
      "4 : 4\n",
      "5 : 3\n",
      "23 : 1\n",
      "k1 : 1\n",
      "k2 : 1\n",
      "k3 : 1\n",
      "3 : 4\n",
      "7 : 2\n",
      "sudh : 1\n",
      "ineuron : 2\n",
      "kumar : 1\n",
      "6 : 3\n",
      "8 : 1\n",
      "ineuron : 2\n",
      "data science  : 1\n"
     ]
    }
   ],
   "source": [
    "for i in l8:\n",
    "    print(i,\":\", l8.count(i))\n",
    "    "
   ]
  },
  {
   "cell_type": "code",
   "execution_count": 77,
   "id": "6ddca889",
   "metadata": {},
   "outputs": [
    {
     "data": {
      "text/plain": [
       "['k1', 'k2', 'k3', 3, 7]"
      ]
     },
     "execution_count": 77,
     "metadata": {},
     "output_type": "execute_result"
    }
   ],
   "source": [
    "##q11 done above\n",
    "l9"
   ]
  },
  {
   "cell_type": "code",
   "execution_count": 78,
   "id": "bd600c31",
   "metadata": {},
   "outputs": [
    {
     "name": "stdout",
     "output_type": "stream",
     "text": [
      "['k1', 'sudh', 'k2', 'ineuron', 'k3', 'kumar', 'ineuron', 'data science ']\n"
     ]
    }
   ],
   "source": [
    "##q12\n",
    "l10=[]\n",
    "for i in l:\n",
    "    if type(i)==list or type(i)==tuple or type(i)==set:\n",
    "        for j in i:\n",
    "            if type(j)==str:\n",
    "                l10.append(j)\n",
    "    if type(i)==dict:\n",
    "        for k,v in i.items():\n",
    "            if type(k)==str or type(v)==str:\n",
    "                l10.append(k)\n",
    "                l10.append(v)\n",
    "print(l10)"
   ]
  },
  {
   "cell_type": "code",
   "execution_count": 79,
   "id": "41e533dc",
   "metadata": {},
   "outputs": [
    {
     "data": {
      "text/plain": [
       "['k1', 'sudh', 'k2', 'ineuron', 'k3', 'kumar', 'ineuron', 'data science ']"
      ]
     },
     "execution_count": 79,
     "metadata": {},
     "output_type": "execute_result"
    }
   ],
   "source": [
    "l10"
   ]
  },
  {
   "cell_type": "code",
   "execution_count": 80,
   "id": "aef2a910",
   "metadata": {},
   "outputs": [
    {
     "name": "stdout",
     "output_type": "stream",
     "text": [
      "['k1', 'k2', 'k3']\n"
     ]
    }
   ],
   "source": [
    "##q13\n",
    "l11=[]\n",
    "for i in l:\n",
    "    if type(i)==dict:\n",
    "        for k,v in i.items():\n",
    "            if type(k)==str:\n",
    "                l11.append(k)\n",
    "print(l11)"
   ]
  },
  {
   "cell_type": "code",
   "execution_count": 205,
   "id": "cedaf197",
   "metadata": {},
   "outputs": [
    {
     "name": "stdout",
     "output_type": "stream",
     "text": [
      "[1, 2, 3, 4, 2, 3, 4, 5, 6, 3, 4, 5, 6, 7, 45, 4, 5, 23, 3, 6, 7, 8]\n",
      "1\n",
      "4\n",
      "9\n",
      "16\n",
      "4\n",
      "9\n",
      "16\n",
      "25\n",
      "36\n",
      "9\n",
      "16\n",
      "25\n",
      "36\n",
      "49\n",
      "2025\n",
      "16\n",
      "25\n",
      "529\n",
      "9\n",
      "36\n",
      "49\n",
      "64\n"
     ]
    }
   ],
   "source": [
    "##q14\n",
    "l12=[]\n",
    "for i in l:\n",
    "    if type(i)==list or type(i)==tuple or type(i)==set:\n",
    "        for j in i:\n",
    "            if type(j)==int:\n",
    "                l12.append(j)\n",
    "    if type(i)==dict:\n",
    "        for k,v in i.items():\n",
    "            if type(k)==int or type(v)==int:\n",
    "                l12.append(k)\n",
    "                l12.append(v)\n",
    "    \n",
    "print(l12)\n",
    "for i in (l12):\n",
    "    print(i*i)\n",
    "    \n",
    "        \n"
   ]
  },
  {
   "cell_type": "code",
   "execution_count": 181,
   "id": "d3867bb5",
   "metadata": {},
   "outputs": [
    {
     "data": {
      "text/plain": [
       "[1, 2, 3, 4, 2, 3, 4, 5, 6, 3, 4, 5, 6, 7, 45, 4, 5, 23, 3, 6, 7, 8]"
      ]
     },
     "execution_count": 181,
     "metadata": {},
     "output_type": "execute_result"
    }
   ],
   "source": [
    "l12"
   ]
  },
  {
   "cell_type": "code",
   "execution_count": 82,
   "id": "b86cb6a1",
   "metadata": {},
   "outputs": [
    {
     "data": {
      "text/plain": [
       "([1, 2, 3, 4],\n",
       " (2, 3, 4, 5, 6),\n",
       " (3, 4, 5, 6, 7),\n",
       " {4, 5, 23, 45},\n",
       " {'k1': 'sudh', 'k2': 'ineuron', 'k3': 'kumar', 3: 6, 7: 8},\n",
       " ['ineuron', 'data science '])"
      ]
     },
     "execution_count": 82,
     "metadata": {},
     "output_type": "execute_result"
    }
   ],
   "source": [
    "t1=tuple(l)\n",
    "t1"
   ]
  },
  {
   "cell_type": "code",
   "execution_count": 83,
   "id": "b176b3b8",
   "metadata": {},
   "outputs": [
    {
     "name": "stdout",
     "output_type": "stream",
     "text": [
      "1\n",
      "2\n",
      "3\n",
      "4\n",
      "2\n",
      "3\n",
      "4\n",
      "5\n",
      "6\n",
      "3\n",
      "4\n",
      "5\n",
      "6\n",
      "7\n",
      "45\n",
      "4\n",
      "5\n",
      "23\n",
      "k1\n",
      "k2\n",
      "k3\n",
      "3\n",
      "7\n",
      "ineuron\n",
      "data science \n"
     ]
    }
   ],
   "source": [
    "\n",
    "for i in t1:\n",
    "    for j in i:\n",
    "        print(j)"
   ]
  },
  {
   "cell_type": "code",
   "execution_count": 84,
   "id": "dfc3df82",
   "metadata": {},
   "outputs": [],
   "source": [
    "t=([1, 2, 3, 4],\n",
    " (2, 3, 4, 5, 6))"
   ]
  },
  {
   "cell_type": "code",
   "execution_count": 85,
   "id": "58703b1a",
   "metadata": {},
   "outputs": [
    {
     "name": "stdout",
     "output_type": "stream",
     "text": [
      "1\n",
      "2\n",
      "3\n",
      "4\n",
      "2\n",
      "3\n",
      "4\n",
      "5\n",
      "6\n"
     ]
    }
   ],
   "source": [
    "for i in t:\n",
    "    for j in i:\n",
    "        print(j)\n"
   ]
  },
  {
   "cell_type": "code",
   "execution_count": 86,
   "id": "6fbdc770",
   "metadata": {},
   "outputs": [
    {
     "name": "stdout",
     "output_type": "stream",
     "text": [
      "[1, 2, 3, 4, 2, 3, 4, 5, 6, 3, 4, 5, 6, 7, 45, 4, 5, 23, 'k1', 'k2', 'k3', 3, 7, 'sudh', 'ineuron', 'kumar', 6, 8, 'ineuron', 'data science ']\n"
     ]
    }
   ],
   "source": [
    "##q15\n",
    "l13=[]\n",
    "for i in tuple(l):\n",
    "    for j in i:\n",
    "        l13.append(j)\n",
    "    if type(i)==dict:\n",
    "        for k,v in i.items():\n",
    "            \n",
    "            l13.append(v)\n",
    "print(l13)"
   ]
  },
  {
   "cell_type": "code",
   "execution_count": null,
   "id": "e2c8d13d",
   "metadata": {},
   "outputs": [],
   "source": []
  },
  {
   "cell_type": "code",
   "execution_count": null,
   "id": "44241b8a",
   "metadata": {},
   "outputs": [],
   "source": []
  },
  {
   "cell_type": "code",
   "execution_count": null,
   "id": "02c4e370",
   "metadata": {},
   "outputs": [],
   "source": []
  }
 ],
 "metadata": {
  "kernelspec": {
   "display_name": "Python 3 (ipykernel)",
   "language": "python",
   "name": "python3"
  },
  "language_info": {
   "codemirror_mode": {
    "name": "ipython",
    "version": 3
   },
   "file_extension": ".py",
   "mimetype": "text/x-python",
   "name": "python",
   "nbconvert_exporter": "python",
   "pygments_lexer": "ipython3",
   "version": "3.9.12"
  }
 },
 "nbformat": 4,
 "nbformat_minor": 5
}
